{
 "cells": [
  {
   "cell_type": "markdown",
   "id": "bd47038d",
   "metadata": {},
   "source": [
    "#### Importing required libraries and functions for building ETL pipeline"
   ]
  },
  {
   "cell_type": "code",
   "execution_count": 1,
   "id": "5a203043",
   "metadata": {},
   "outputs": [],
   "source": [
    "import pyspark\n",
    "from pyspark.sql import SparkSession  #for starting spark session\n",
    "from delta.pip_utils import configure_spark_with_delta_pip  \n",
    "import pyspark.sql.functions as F  #data manipulation\n",
    "from delta.tables import *  #reading and writing delta tables"
   ]
  },
  {
   "cell_type": "markdown",
   "id": "98efa516",
   "metadata": {},
   "source": [
    "##### Using pyspark builder to started spark session"
   ]
  },
  {
   "cell_type": "code",
   "execution_count": 2,
   "id": "58cd4b33",
   "metadata": {},
   "outputs": [],
   "source": [
    "builder = pyspark.sql.SparkSession.builder.appName(\"ETL\") \\\n",
    "                     .config(\"spark.sql.extensions\", \"io.delta.sql.DeltaSparkSessionExtension\") \\\n",
    "                     .config(\"spark.sql.catalog.spark_catalog\", \"org.apache.spark.sql.delta.catalog.DeltaCatalog\") \\\n",
    "                     .config('spark.databricks.delta.properties.defaults.enableChangeDataFeed', True)  \n",
    "spark = configure_spark_with_delta_pip(builder).getOrCreate()"
   ]
  },
  {
   "cell_type": "markdown",
   "id": "f11e4d7b",
   "metadata": {},
   "source": [
    "Reading the raw data into spark dataframe"
   ]
  },
  {
   "cell_type": "code",
   "execution_count": 3,
   "id": "fff3b14d",
   "metadata": {},
   "outputs": [],
   "source": [
    "data = spark.read.csv('D:/datalake/source/data.csv',header='true',inferSchema='true')"
   ]
  },
  {
   "cell_type": "code",
   "execution_count": 4,
   "id": "2931250e",
   "metadata": {},
   "outputs": [
    {
     "data": {
      "text/plain": [
       "10"
      ]
     },
     "execution_count": 4,
     "metadata": {},
     "output_type": "execute_result"
    }
   ],
   "source": [
    "data.count()"
   ]
  },
  {
   "cell_type": "code",
   "execution_count": 5,
   "id": "ab4d0756",
   "metadata": {},
   "outputs": [
    {
     "name": "stdout",
     "output_type": "stream",
     "text": [
      "+-----------+---------------+---+-----------+------------+------------+\n",
      "|Customer_ID|           Name|Age|        SSN|  Occupation|Credit_Score|\n",
      "+-----------+---------------+---+-----------+------------+------------+\n",
      "| CUS_0x3187|           null| 39|024-52-4439|   Architect|        Poor|\n",
      "| CUS_0x3fbf|Rick Rothackerj| 28|004-07-5839|     Teacher|    Standard|\n",
      "| CUS_0x953c|         Langep| 34|486-85-3974|     _______|        Good|\n",
      "| CUS_0x4aaa|         Jasond| 55|072-31-6145|Entrepreneur|    Standard|\n",
      "| CUS_0x2947|         Deepaa| 21|615-06-7821|   Developer|    Standard|\n",
      "| CUS_0x30e0|             Np| 31|612-70-8987|      Lawyer|        Good|\n",
      "| CUS_0xc3b7|         Nadiaq| 34|411-51-0676|      Lawyer|        Good|\n",
      "| CUS_0x1e9b|        Taylorb| 18|866-51-6415|      Writer|        Poor|\n",
      "| CUS_0x3b88|          Mikex| 40|  #F%$D@*&8|   Scientist|    Standard|\n",
      "| CUS_0xae51|           null| 46|082-17-4774|Entrepreneur|    Standard|\n",
      "+-----------+---------------+---+-----------+------------+------------+\n",
      "\n"
     ]
    }
   ],
   "source": [
    "data.show()"
   ]
  },
  {
   "cell_type": "markdown",
   "id": "059e4b28",
   "metadata": {},
   "source": [
    "Writing the spark datafram into delta table and saving it in bronze_layer "
   ]
  },
  {
   "cell_type": "code",
   "execution_count": 6,
   "id": "f456f217",
   "metadata": {},
   "outputs": [],
   "source": [
    "data.write.mode('overwrite').format('delta').save('D:/datalake/bronze_data')"
   ]
  },
  {
   "cell_type": "markdown",
   "id": "17ae7f21",
   "metadata": {},
   "source": [
    "reading the bronze data into spark and cleaning the data and saving it to silver layer"
   ]
  },
  {
   "cell_type": "code",
   "execution_count": 7,
   "id": "3a372a90",
   "metadata": {},
   "outputs": [],
   "source": [
    "bronze_data = spark.read.format('delta').load('D:/datalake/bronze_data')"
   ]
  },
  {
   "cell_type": "code",
   "execution_count": 8,
   "id": "a9085d26",
   "metadata": {},
   "outputs": [],
   "source": [
    "bronze_cleaned = bronze_data.withColumn('Occupation',F.regexp_replace('Occupation','_______','NaN')) \\\n",
    "                .withColumn('SSN',F.regexp_replace('SSN','[^0-9a-zA-Z_\\-]+','')) \\\n",
    "                .dropDuplicates()"
   ]
  },
  {
   "cell_type": "code",
   "execution_count": 9,
   "id": "4a51f285",
   "metadata": {},
   "outputs": [
    {
     "name": "stdout",
     "output_type": "stream",
     "text": [
      "+-----------+---------------+---+-----------+------------+------------+\n",
      "|Customer_ID|           Name|Age|        SSN|  Occupation|Credit_Score|\n",
      "+-----------+---------------+---+-----------+------------+------------+\n",
      "| CUS_0x3fbf|Rick Rothackerj| 28|004-07-5839|     Teacher|    Standard|\n",
      "| CUS_0x953c|         Langep| 34|486-85-3974|         NaN|        Good|\n",
      "| CUS_0xae51|           null| 46|082-17-4774|Entrepreneur|    Standard|\n",
      "| CUS_0x4aaa|         Jasond| 55|072-31-6145|Entrepreneur|    Standard|\n",
      "| CUS_0x3b88|          Mikex| 40|        FD8|   Scientist|    Standard|\n",
      "| CUS_0xc3b7|         Nadiaq| 34|411-51-0676|      Lawyer|        Good|\n",
      "| CUS_0x3187|           null| 39|024-52-4439|   Architect|        Poor|\n",
      "| CUS_0x2947|         Deepaa| 21|615-06-7821|   Developer|    Standard|\n",
      "| CUS_0x1e9b|        Taylorb| 18|866-51-6415|      Writer|        Poor|\n",
      "| CUS_0x30e0|             Np| 31|612-70-8987|      Lawyer|        Good|\n",
      "+-----------+---------------+---+-----------+------------+------------+\n",
      "\n"
     ]
    }
   ],
   "source": [
    "bronze_cleaned.show()"
   ]
  },
  {
   "cell_type": "markdown",
   "id": "0ebe0c18",
   "metadata": {},
   "source": [
    "writing the cleaned data into silver layer"
   ]
  },
  {
   "cell_type": "code",
   "execution_count": 10,
   "id": "8ec3c0a4",
   "metadata": {},
   "outputs": [],
   "source": [
    "bronze_cleaned.write.mode('overwrite').format('delta').save('D:/datalake/silver_data')"
   ]
  },
  {
   "cell_type": "markdown",
   "id": "88865061",
   "metadata": {},
   "source": [
    "Reading the new data into spark session"
   ]
  },
  {
   "cell_type": "code",
   "execution_count": 11,
   "id": "96c252fa",
   "metadata": {},
   "outputs": [],
   "source": [
    "data_update =  spark.read.csv('D:/datalake/source/dataCopy.csv',header='true',inferSchema='true')"
   ]
  },
  {
   "cell_type": "code",
   "execution_count": 12,
   "id": "24f98f6a",
   "metadata": {},
   "outputs": [
    {
     "data": {
      "text/plain": [
       "7"
      ]
     },
     "execution_count": 12,
     "metadata": {},
     "output_type": "execute_result"
    }
   ],
   "source": [
    "data_update.count()"
   ]
  },
  {
   "cell_type": "code",
   "execution_count": 13,
   "id": "8426a7e3",
   "metadata": {},
   "outputs": [
    {
     "name": "stdout",
     "output_type": "stream",
     "text": [
      "+-----------+---------------+---+-----------+-------------+------------+\n",
      "|Customer_ID|           Name|Age|        SSN|   Occupation|Credit_Score|\n",
      "+-----------+---------------+---+-----------+-------------+------------+\n",
      "| CUS_0x3187|         vishnu| 39|024-52-4439|    Architect|        Poor|\n",
      "| CUS_0x3fbf|Rick Rothackerj| 28|004-07-5839|      Teacher|    Standard|\n",
      "| CUS_0xb288|      Nicolacir| 43|390-44-4596|   Journalist|    Standard|\n",
      "| CUS_0x7a22|          Sabam| 49|478-48-4669|    Developer|    Standard|\n",
      "| CUS_0x7a29|         vishnu| 31| 123-5677-5|Data Engineer|        Good|\n",
      "|CUS_0xb2101|           Mike| 51|123-5677-51|         Mech|    Standard|\n",
      "|CUS_0x7a220|          Tyson| 52|123-5677-51|         Mech|        Poor|\n",
      "+-----------+---------------+---+-----------+-------------+------------+\n",
      "\n"
     ]
    }
   ],
   "source": [
    "data_update.show()"
   ]
  },
  {
   "cell_type": "markdown",
   "id": "579ef97d",
   "metadata": {},
   "source": [
    "Merging the data with bronze delta table"
   ]
  },
  {
   "cell_type": "code",
   "execution_count": 14,
   "id": "c1b03ff4",
   "metadata": {},
   "outputs": [],
   "source": [
    "bronze_data = DeltaTable.forPath(spark,'D:/datalake/bronze_data')"
   ]
  },
  {
   "cell_type": "code",
   "execution_count": 15,
   "id": "431d0ef1",
   "metadata": {},
   "outputs": [],
   "source": [
    "bronze_data.alias('b').merge(\n",
    "                       data_update.alias('u'),\n",
    "                       \"b.Customer_ID =u.Customer_ID\") \\\n",
    "                       .whenMatchedUpdate(set={\n",
    "                       \"Customer_ID\": \"u.Customer_ID\",\n",
    "                       \"Occupation\": \"u.Occupation\",\n",
    "                       \"Name\": \"u.Name\",\n",
    "                       \"Credit_Score\": \"u.Credit_Score\"\n",
    "                       }) \\\n",
    "                       .whenNotMatchedInsertAll() \\\n",
    "                       .execute()"
   ]
  },
  {
   "cell_type": "code",
   "execution_count": 16,
   "id": "548c9c82",
   "metadata": {},
   "outputs": [
    {
     "data": {
      "text/plain": [
       "15"
      ]
     },
     "execution_count": 16,
     "metadata": {},
     "output_type": "execute_result"
    }
   ],
   "source": [
    "bronze_cleaned.count()"
   ]
  },
  {
   "cell_type": "code",
   "execution_count": 17,
   "id": "a8c6393c",
   "metadata": {},
   "outputs": [
    {
     "name": "stdout",
     "output_type": "stream",
     "text": [
      "+-----------+---------------+---+-----------+-------------+------------+\n",
      "|Customer_ID|           Name|Age|        SSN|   Occupation|Credit_Score|\n",
      "+-----------+---------------+---+-----------+-------------+------------+\n",
      "| CUS_0x3fbf|Rick Rothackerj| 28|004-07-5839|      Teacher|    Standard|\n",
      "| CUS_0x7a29|         vishnu| 31| 123-5677-5|Data Engineer|        Good|\n",
      "| CUS_0x953c|         Langep| 34|486-85-3974|          NaN|        Good|\n",
      "| CUS_0xae51|           null| 46|082-17-4774| Entrepreneur|    Standard|\n",
      "| CUS_0x4aaa|         Jasond| 55|072-31-6145| Entrepreneur|    Standard|\n",
      "| CUS_0x3b88|          Mikex| 40|        FD8|    Scientist|    Standard|\n",
      "| CUS_0x3187|         vishnu| 39|024-52-4439|    Architect|        Poor|\n",
      "|CUS_0x7a220|          Tyson| 52|123-5677-51|         Mech|        Poor|\n",
      "| CUS_0xc3b7|         Nadiaq| 34|411-51-0676|       Lawyer|        Good|\n",
      "|CUS_0xb2101|           Mike| 51|123-5677-51|         Mech|    Standard|\n",
      "| CUS_0x2947|         Deepaa| 21|615-06-7821|    Developer|    Standard|\n",
      "| CUS_0x7a22|          Sabam| 49|478-48-4669|    Developer|    Standard|\n",
      "| CUS_0x1e9b|        Taylorb| 18|866-51-6415|       Writer|        Poor|\n",
      "| CUS_0xb288|      Nicolacir| 43|390-44-4596|   Journalist|    Standard|\n",
      "| CUS_0x30e0|             Np| 31|612-70-8987|       Lawyer|        Good|\n",
      "+-----------+---------------+---+-----------+-------------+------------+\n",
      "\n"
     ]
    }
   ],
   "source": [
    "bronze_cleaned.show()"
   ]
  },
  {
   "cell_type": "code",
   "execution_count": 18,
   "id": "6b8b1fc2",
   "metadata": {},
   "outputs": [],
   "source": [
    "cdc = spark.read.parquet('D:\\\\datalake\\\\bronze_data\\\\_change_data')"
   ]
  },
  {
   "cell_type": "code",
   "execution_count": 19,
   "id": "9bbc5c2a",
   "metadata": {},
   "outputs": [
    {
     "name": "stdout",
     "output_type": "stream",
     "text": [
      "+-----------+---------------+---+-----------+-------------+------------+----------------+\n",
      "|Customer_ID|           Name|Age|        SSN|   Occupation|Credit_Score|    _change_type|\n",
      "+-----------+---------------+---+-----------+-------------+------------+----------------+\n",
      "| CUS_0x3187|           null| 39|024-52-4439|    Architect|        Poor| update_preimage|\n",
      "| CUS_0x3187|         vishnu| 39|024-52-4439|    Architect|        Poor|update_postimage|\n",
      "| CUS_0x3fbf|Rick Rothackerj| 28|004-07-5839|      Teacher|    Standard| update_preimage|\n",
      "| CUS_0x3fbf|Rick Rothackerj| 28|004-07-5839|      Teacher|    Standard|update_postimage|\n",
      "| CUS_0x7a22|          Sabam| 49|478-48-4669|    Developer|    Standard|          insert|\n",
      "|CUS_0x7a220|          Tyson| 52|123-5677-51|         Mech|        Poor|          insert|\n",
      "| CUS_0x7a29|         vishnu| 31| 123-5677-5|Data Engineer|        Good|          insert|\n",
      "|CUS_0xb2101|           Mike| 51|123-5677-51|         Mech|    Standard|          insert|\n",
      "| CUS_0xb288|      Nicolacir| 43|390-44-4596|   Journalist|    Standard|          insert|\n",
      "+-----------+---------------+---+-----------+-------------+------------+----------------+\n",
      "\n"
     ]
    }
   ],
   "source": [
    "cdc.show()"
   ]
  },
  {
   "cell_type": "code",
   "execution_count": null,
   "id": "6d298e44",
   "metadata": {},
   "outputs": [],
   "source": []
  }
 ],
 "metadata": {
  "kernelspec": {
   "display_name": "Python 3 (ipykernel)",
   "language": "python",
   "name": "python3"
  },
  "language_info": {
   "codemirror_mode": {
    "name": "ipython",
    "version": 3
   },
   "file_extension": ".py",
   "mimetype": "text/x-python",
   "name": "python",
   "nbconvert_exporter": "python",
   "pygments_lexer": "ipython3",
   "version": "3.9.13"
  }
 },
 "nbformat": 4,
 "nbformat_minor": 5
}
